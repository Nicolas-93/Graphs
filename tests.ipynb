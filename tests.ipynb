{
 "cells": [
  {
   "cell_type": "markdown",
   "metadata": {},
   "source": [
    "## Check imports"
   ]
  },
  {
   "cell_type": "code",
   "execution_count": null,
   "metadata": {},
   "outputs": [],
   "source": [
    "from pprint import pprint as print\n",
    "from graphs import Edge, UDEdge, DEdge, Vertex"
   ]
  },
  {
   "cell_type": "code",
   "execution_count": null,
   "metadata": {},
   "outputs": [],
   "source": [
    "from graphs.basic import UndirectedGraph, DirectedGraph\n",
    "from graphs.weighted import WeightedDirectedGraph, WeightedUndirectedGraph"
   ]
  },
  {
   "cell_type": "markdown",
   "metadata": {},
   "source": [
    "## DirectedGraph"
   ]
  },
  {
   "cell_type": "code",
   "execution_count": null,
   "metadata": {},
   "outputs": [],
   "source": [
    "from graphs.basic import DirectedGraph\n",
    "g = DirectedGraph()\n",
    "g.add_edges(edges=(\n",
    "        DEdge(0, 2),\n",
    "        DEdge(0, 3),\n",
    "        DEdge(1, 4),\n",
    "        DEdge(0, 1),\n",
    "        DEdge(2, 5),\n",
    "        DEdge(3, 5),\n",
    "        DEdge(5, 6),\n",
    "        DEdge(6, 4),\n",
    "        DEdge(2, 0),\n",
    "        DEdge(4, 0)\n",
    "    )\n",
    ")\n",
    "g.as_dot()"
   ]
  },
  {
   "cell_type": "markdown",
   "metadata": {},
   "source": [
    "## Undirected Graph"
   ]
  },
  {
   "cell_type": "code",
   "execution_count": null,
   "metadata": {},
   "outputs": [],
   "source": [
    "from graphs.basic import UndirectedGraph\n",
    "g = UndirectedGraph()\n",
    "g.add_edges(edges=(\n",
    "        UDEdge(0, 2),\n",
    "        UDEdge(0, 3),\n",
    "        UDEdge(1, 4),\n",
    "        UDEdge(0, 1),\n",
    "        UDEdge(2, 5),\n",
    "        UDEdge(3, 5),\n",
    "        UDEdge(5, 6),\n",
    "        UDEdge(6, 4)\n",
    "    )\n",
    ")\n",
    "g.as_dot()"
   ]
  },
  {
   "cell_type": "markdown",
   "metadata": {},
   "source": [
    "## WeightedDirectedGraph"
   ]
  },
  {
   "cell_type": "code",
   "execution_count": null,
   "metadata": {},
   "outputs": [],
   "source": [
    "from graphs.weighted import WeightedDirectedGraph\n",
    "\n",
    "wdigraph = WeightedDirectedGraph(\n",
    "    edges=[\n",
    "        DEdge(1, 2, 12),\n",
    "        DEdge(2, 1, 21),\n",
    "        DEdge(3, 4, 34),\n",
    "        DEdge(1, 3, 13)\n",
    "    ]\n",
    ")"
   ]
  },
  {
   "cell_type": "code",
   "execution_count": null,
   "metadata": {},
   "outputs": [],
   "source": [
    "wdigraph.set_weight(DEdge(2, 1), 2121)\n",
    "wdigraph.as_dot()"
   ]
  },
  {
   "cell_type": "markdown",
   "metadata": {},
   "source": [
    "## WeightedUndirectedGraph"
   ]
  },
  {
   "cell_type": "code",
   "execution_count": null,
   "metadata": {},
   "outputs": [],
   "source": [
    "from graphs.weighted import WeightedUndirectedGraph\n",
    "\n",
    "wudigraph = WeightedUndirectedGraph(\n",
    "    edges=[\n",
    "        UDEdge(1, 2, 12),\n",
    "        UDEdge(2, 3, 23),\n",
    "        UDEdge(3, 4, 34),\n",
    "        UDEdge(1, 3, 13)\n",
    "    ]\n",
    ")"
   ]
  },
  {
   "cell_type": "code",
   "execution_count": null,
   "metadata": {},
   "outputs": [],
   "source": [
    "list(wudigraph.get_weighted_edges())"
   ]
  },
  {
   "cell_type": "code",
   "execution_count": null,
   "metadata": {},
   "outputs": [],
   "source": [
    "wudigraph.set_weight(UDEdge(2, 1), 2211)"
   ]
  },
  {
   "cell_type": "code",
   "execution_count": null,
   "metadata": {},
   "outputs": [],
   "source": [
    "list(wudigraph.get_weighted_edges())"
   ]
  },
  {
   "cell_type": "code",
   "execution_count": null,
   "metadata": {},
   "outputs": [],
   "source": [
    "wudigraph.weights"
   ]
  },
  {
   "cell_type": "code",
   "execution_count": null,
   "metadata": {},
   "outputs": [],
   "source": [
    "wudigraph.as_dot()"
   ]
  },
  {
   "cell_type": "code",
   "execution_count": null,
   "metadata": {},
   "outputs": [],
   "source": [
    "wu_prim = WeightedUndirectedGraph(\n",
    "    edges=[\n",
    "        UDEdge(1, 4, 2),\n",
    "        UDEdge(1, 0, 5),\n",
    "        UDEdge(4, 0, 2),\n",
    "        UDEdge(4, 3, 3),\n",
    "        UDEdge(3, 0, 4),\n",
    "        UDEdge(0, 2, 7),\n",
    "        UDEdge(3, 2, 9),\n",
    "        UDEdge(6, 4, 7),\n",
    "        UDEdge(6, 3, 4),\n",
    "        UDEdge(6, 5, 12),\n",
    "        UDEdge(5, 3, 7),\n",
    "        UDEdge(5, 2, 5)\n",
    "    ]\n",
    ")\n"
   ]
  },
  {
   "cell_type": "code",
   "execution_count": null,
   "metadata": {},
   "outputs": [],
   "source": [
    "wu_prim.as_dot()"
   ]
  },
  {
   "cell_type": "code",
   "execution_count": null,
   "metadata": {},
   "outputs": [],
   "source": [
    "from graphs.algorithms import mwst_prim\n",
    "acpm = mwst_prim(wu_prim, 1)"
   ]
  },
  {
   "cell_type": "code",
   "execution_count": null,
   "metadata": {},
   "outputs": [],
   "source": [
    "acpm.as_dot()"
   ]
  },
  {
   "cell_type": "code",
   "execution_count": null,
   "metadata": {},
   "outputs": [],
   "source": []
  }
 ],
 "metadata": {
  "kernelspec": {
   "display_name": "Python 3",
   "language": "python",
   "name": "python3"
  },
  "language_info": {
   "codemirror_mode": {
    "name": "ipython",
    "version": 3
   },
   "file_extension": ".py",
   "mimetype": "text/x-python",
   "name": "python",
   "nbconvert_exporter": "python",
   "pygments_lexer": "ipython3",
   "version": "3.9.2"
  }
 },
 "nbformat": 4,
 "nbformat_minor": 2
}
