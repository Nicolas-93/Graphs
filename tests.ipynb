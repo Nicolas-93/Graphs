{
 "cells": [
  {
   "cell_type": "markdown",
   "metadata": {},
   "source": [
    "## Check imports"
   ]
  },
  {
   "cell_type": "code",
   "execution_count": null,
   "metadata": {},
   "outputs": [],
   "source": [
    "from pprint import pprint as print\n",
    "from graphs import Edge, WeightedEdge, Vertex"
   ]
  },
  {
   "cell_type": "code",
   "execution_count": null,
   "metadata": {},
   "outputs": [],
   "source": [
    "from graphs.basic import UndirectedGraph, DirectedGraph\n",
    "from graphs.weighted import WeightedDirectedGraph, WeightedUndirectedGraph"
   ]
  },
  {
   "cell_type": "markdown",
   "metadata": {},
   "source": [
    "## DirectedGraph"
   ]
  },
  {
   "cell_type": "code",
   "execution_count": null,
   "metadata": {},
   "outputs": [],
   "source": [
    "from graphs.basic import DirectedGraph\n",
    "g = DirectedGraph()\n",
    "g.add_edges(edges=(\n",
    "        Edge(0, 2),\n",
    "        Edge(0, 3),\n",
    "        Edge(1, 4),\n",
    "        Edge(0, 1),\n",
    "        Edge(2, 5),\n",
    "        Edge(3, 5),\n",
    "        Edge(5, 6),\n",
    "        Edge(6, 4),\n",
    "        Edge(2, 0),\n",
    "        Edge(4, 0)\n",
    "    )\n",
    ")\n",
    "g.as_dot()"
   ]
  },
  {
   "cell_type": "markdown",
   "metadata": {},
   "source": [
    "## Undirected Graph"
   ]
  },
  {
   "cell_type": "code",
   "execution_count": null,
   "metadata": {},
   "outputs": [],
   "source": [
    "from graphs.basic import UndirectedGraph\n",
    "g = UndirectedGraph()\n",
    "g.add_edges(edges=(\n",
    "        Edge(0, 2),\n",
    "        Edge(0, 3),\n",
    "        Edge(1, 4),\n",
    "        Edge(0, 1),\n",
    "        Edge(2, 5),\n",
    "        Edge(3, 5),\n",
    "        Edge(5, 6),\n",
    "        Edge(6, 4)\n",
    "    )\n",
    ")\n",
    "g.as_dot()"
   ]
  },
  {
   "cell_type": "markdown",
   "metadata": {},
   "source": [
    "## WeightedDirectedGraph"
   ]
  },
  {
   "cell_type": "code",
   "execution_count": null,
   "metadata": {},
   "outputs": [],
   "source": [
    "from graphs.weighted import WeightedDirectedGraph\n",
    "\n",
    "wdigraph = WeightedDirectedGraph(\n",
    "    edges=[\n",
    "        WeightedEdge(1, 2, 12),\n",
    "        WeightedEdge(2, 1, 21),\n",
    "        WeightedEdge(3, 4, 34),\n",
    "        WeightedEdge(1, 3, 13)\n",
    "    ]\n",
    ")"
   ]
  },
  {
   "cell_type": "code",
   "execution_count": null,
   "metadata": {},
   "outputs": [],
   "source": [
    "wdigraph.set_weight(Edge(2, 1), 2121)\n",
    "wdigraph.as_dot()"
   ]
  },
  {
   "cell_type": "markdown",
   "metadata": {},
   "source": [
    "## WeightedUndirectedGraph"
   ]
  },
  {
   "cell_type": "code",
   "execution_count": null,
   "metadata": {},
   "outputs": [],
   "source": [
    "from graphs.weighted import WeightedUndirectedGraph\n",
    "\n",
    "wudigraph = WeightedUndirectedGraph(\n",
    "    edges=[\n",
    "        WeightedEdge(1, 2, 12),\n",
    "        WeightedEdge(2, 3, 23),\n",
    "        WeightedEdge(3, 4, 34),\n",
    "        WeightedEdge(1, 3, 13)\n",
    "    ]\n",
    ")"
   ]
  },
  {
   "cell_type": "code",
   "execution_count": null,
   "metadata": {},
   "outputs": [],
   "source": [
    "list(wudigraph.get_edges_with_weights())"
   ]
  },
  {
   "cell_type": "code",
   "execution_count": null,
   "metadata": {},
   "outputs": [],
   "source": [
    "wudigraph.set_weight(Edge(2, 1), 2211)"
   ]
  },
  {
   "cell_type": "code",
   "execution_count": null,
   "metadata": {},
   "outputs": [],
   "source": [
    "list(wudigraph.get_edges_with_weights())"
   ]
  },
  {
   "cell_type": "code",
   "execution_count": null,
   "metadata": {},
   "outputs": [],
   "source": [
    "wudigraph.weights"
   ]
  },
  {
   "cell_type": "code",
   "execution_count": null,
   "metadata": {},
   "outputs": [],
   "source": [
    "wudigraph.as_dot()"
   ]
  },
  {
   "cell_type": "code",
   "execution_count": null,
   "metadata": {},
   "outputs": [],
   "source": [
    "list(wudigraph.get_edges_with_weights_as_tuples())"
   ]
  },
  {
   "cell_type": "code",
   "execution_count": null,
   "metadata": {},
   "outputs": [],
   "source": [
    "list(wudigraph.get_neighbours_edges_with_weight(4))"
   ]
  }
 ],
 "metadata": {
  "kernelspec": {
   "display_name": "Python 3",
   "language": "python",
   "name": "python3"
  },
  "language_info": {
   "codemirror_mode": {
    "name": "ipython",
    "version": 3
   },
   "file_extension": ".py",
   "mimetype": "text/x-python",
   "name": "python",
   "nbconvert_exporter": "python",
   "pygments_lexer": "ipython3",
   "version": "3.9.2"
  }
 },
 "nbformat": 4,
 "nbformat_minor": 2
}
